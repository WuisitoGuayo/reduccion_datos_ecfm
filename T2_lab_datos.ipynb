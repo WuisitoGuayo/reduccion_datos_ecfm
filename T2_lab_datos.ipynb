{
 "cells": [
  {
   "cell_type": "markdown",
   "id": "78440a4b-3c07-4098-a5dd-e692e7717272",
   "metadata": {},
   "source": [
    "# Tarea 2, Laboratorio de Reducción de Datos"
   ]
  },
  {
   "cell_type": "markdown",
   "id": "14e40ec0-678a-4bd1-90c7-ba5da1b9597a",
   "metadata": {},
   "source": [
    "---"
   ]
  },
  {
   "cell_type": "markdown",
   "id": "5a1129ab-e671-4b50-80bd-0878a324a02b",
   "metadata": {
    "jp-MarkdownHeadingCollapsed": true
   },
   "source": [
    "## Diccionario de Datos"
   ]
  },
  {
   "cell_type": "code",
   "execution_count": 40,
   "id": "b352eb9d-03a5-4256-a9a9-1aa30cb47656",
   "metadata": {},
   "outputs": [],
   "source": [
    "import pandas as pd\n",
    "import seaborn as sns\n",
    "import matplotlib.pyplot as plt"
   ]
  },
  {
   "cell_type": "code",
   "execution_count": 41,
   "id": "40d992f2-f641-464e-92a1-15a4ded5d4ff",
   "metadata": {},
   "outputs": [],
   "source": [
    "data = pd.read_csv(\"measures_v2.csv\")"
   ]
  },
  {
   "cell_type": "code",
   "execution_count": 42,
   "id": "30e4c989-dece-4f5c-8e59-74de637eacdf",
   "metadata": {
    "collapsed": true,
    "jupyter": {
     "outputs_hidden": true
    }
   },
   "outputs": [
    {
     "data": {
      "text/html": [
       "<div>\n",
       "<style scoped>\n",
       "    .dataframe tbody tr th:only-of-type {\n",
       "        vertical-align: middle;\n",
       "    }\n",
       "\n",
       "    .dataframe tbody tr th {\n",
       "        vertical-align: top;\n",
       "    }\n",
       "\n",
       "    .dataframe thead th {\n",
       "        text-align: right;\n",
       "    }\n",
       "</style>\n",
       "<table border=\"1\" class=\"dataframe\">\n",
       "  <thead>\n",
       "    <tr style=\"text-align: right;\">\n",
       "      <th></th>\n",
       "      <th>u_q</th>\n",
       "      <th>coolant</th>\n",
       "      <th>stator_winding</th>\n",
       "      <th>u_d</th>\n",
       "      <th>stator_tooth</th>\n",
       "      <th>motor_speed</th>\n",
       "      <th>i_d</th>\n",
       "      <th>i_q</th>\n",
       "      <th>pm</th>\n",
       "      <th>stator_yoke</th>\n",
       "      <th>ambient</th>\n",
       "      <th>torque</th>\n",
       "      <th>profile_id</th>\n",
       "    </tr>\n",
       "  </thead>\n",
       "  <tbody>\n",
       "    <tr>\n",
       "      <th>0</th>\n",
       "      <td>-0.450682</td>\n",
       "      <td>18.805172</td>\n",
       "      <td>19.086670</td>\n",
       "      <td>-0.350055</td>\n",
       "      <td>18.293219</td>\n",
       "      <td>0.002866</td>\n",
       "      <td>0.004419</td>\n",
       "      <td>0.000328</td>\n",
       "      <td>24.554214</td>\n",
       "      <td>18.316547</td>\n",
       "      <td>19.850691</td>\n",
       "      <td>1.871008e-01</td>\n",
       "      <td>17</td>\n",
       "    </tr>\n",
       "    <tr>\n",
       "      <th>1</th>\n",
       "      <td>-0.325737</td>\n",
       "      <td>18.818571</td>\n",
       "      <td>19.092390</td>\n",
       "      <td>-0.305803</td>\n",
       "      <td>18.294807</td>\n",
       "      <td>0.000257</td>\n",
       "      <td>0.000606</td>\n",
       "      <td>-0.000785</td>\n",
       "      <td>24.538078</td>\n",
       "      <td>18.314955</td>\n",
       "      <td>19.850672</td>\n",
       "      <td>2.454175e-01</td>\n",
       "      <td>17</td>\n",
       "    </tr>\n",
       "    <tr>\n",
       "      <th>2</th>\n",
       "      <td>-0.440864</td>\n",
       "      <td>18.828770</td>\n",
       "      <td>19.089380</td>\n",
       "      <td>-0.372503</td>\n",
       "      <td>18.294094</td>\n",
       "      <td>0.002355</td>\n",
       "      <td>0.001290</td>\n",
       "      <td>0.000386</td>\n",
       "      <td>24.544693</td>\n",
       "      <td>18.326307</td>\n",
       "      <td>19.850657</td>\n",
       "      <td>1.766153e-01</td>\n",
       "      <td>17</td>\n",
       "    </tr>\n",
       "    <tr>\n",
       "      <th>3</th>\n",
       "      <td>-0.327026</td>\n",
       "      <td>18.835567</td>\n",
       "      <td>19.083031</td>\n",
       "      <td>-0.316199</td>\n",
       "      <td>18.292542</td>\n",
       "      <td>0.006105</td>\n",
       "      <td>0.000026</td>\n",
       "      <td>0.002046</td>\n",
       "      <td>24.554018</td>\n",
       "      <td>18.330833</td>\n",
       "      <td>19.850647</td>\n",
       "      <td>2.383027e-01</td>\n",
       "      <td>17</td>\n",
       "    </tr>\n",
       "    <tr>\n",
       "      <th>4</th>\n",
       "      <td>-0.471150</td>\n",
       "      <td>18.857033</td>\n",
       "      <td>19.082525</td>\n",
       "      <td>-0.332272</td>\n",
       "      <td>18.291428</td>\n",
       "      <td>0.003133</td>\n",
       "      <td>-0.064317</td>\n",
       "      <td>0.037184</td>\n",
       "      <td>24.565397</td>\n",
       "      <td>18.326662</td>\n",
       "      <td>19.850639</td>\n",
       "      <td>2.081967e-01</td>\n",
       "      <td>17</td>\n",
       "    </tr>\n",
       "    <tr>\n",
       "      <th>...</th>\n",
       "      <td>...</td>\n",
       "      <td>...</td>\n",
       "      <td>...</td>\n",
       "      <td>...</td>\n",
       "      <td>...</td>\n",
       "      <td>...</td>\n",
       "      <td>...</td>\n",
       "      <td>...</td>\n",
       "      <td>...</td>\n",
       "      <td>...</td>\n",
       "      <td>...</td>\n",
       "      <td>...</td>\n",
       "      <td>...</td>\n",
       "    </tr>\n",
       "    <tr>\n",
       "      <th>1330811</th>\n",
       "      <td>-2.152128</td>\n",
       "      <td>30.721298</td>\n",
       "      <td>45.274497</td>\n",
       "      <td>0.791801</td>\n",
       "      <td>41.934347</td>\n",
       "      <td>0.000380</td>\n",
       "      <td>-2.000169</td>\n",
       "      <td>1.097528</td>\n",
       "      <td>62.147780</td>\n",
       "      <td>38.653720</td>\n",
       "      <td>23.989078</td>\n",
       "      <td>-8.116730e-60</td>\n",
       "      <td>71</td>\n",
       "    </tr>\n",
       "    <tr>\n",
       "      <th>1330812</th>\n",
       "      <td>-2.258684</td>\n",
       "      <td>30.721306</td>\n",
       "      <td>45.239017</td>\n",
       "      <td>0.778900</td>\n",
       "      <td>41.868923</td>\n",
       "      <td>0.002985</td>\n",
       "      <td>-2.000499</td>\n",
       "      <td>1.097569</td>\n",
       "      <td>62.142646</td>\n",
       "      <td>38.656328</td>\n",
       "      <td>23.970700</td>\n",
       "      <td>-5.815891e-60</td>\n",
       "      <td>71</td>\n",
       "    </tr>\n",
       "    <tr>\n",
       "      <th>1330813</th>\n",
       "      <td>-2.130312</td>\n",
       "      <td>30.721312</td>\n",
       "      <td>45.211576</td>\n",
       "      <td>0.804914</td>\n",
       "      <td>41.804819</td>\n",
       "      <td>0.002301</td>\n",
       "      <td>-1.999268</td>\n",
       "      <td>1.098765</td>\n",
       "      <td>62.138387</td>\n",
       "      <td>38.650923</td>\n",
       "      <td>23.977234</td>\n",
       "      <td>-4.167268e-60</td>\n",
       "      <td>71</td>\n",
       "    </tr>\n",
       "    <tr>\n",
       "      <th>1330814</th>\n",
       "      <td>-2.268498</td>\n",
       "      <td>30.721316</td>\n",
       "      <td>45.193508</td>\n",
       "      <td>0.763091</td>\n",
       "      <td>41.762220</td>\n",
       "      <td>0.005662</td>\n",
       "      <td>-2.000999</td>\n",
       "      <td>1.095696</td>\n",
       "      <td>62.133422</td>\n",
       "      <td>38.655686</td>\n",
       "      <td>24.001421</td>\n",
       "      <td>-2.985978e-60</td>\n",
       "      <td>71</td>\n",
       "    </tr>\n",
       "    <tr>\n",
       "      <th>1330815</th>\n",
       "      <td>-2.100158</td>\n",
       "      <td>30.721319</td>\n",
       "      <td>45.132307</td>\n",
       "      <td>0.807309</td>\n",
       "      <td>41.734763</td>\n",
       "      <td>0.004395</td>\n",
       "      <td>-2.000792</td>\n",
       "      <td>1.096487</td>\n",
       "      <td>62.131429</td>\n",
       "      <td>38.660370</td>\n",
       "      <td>24.027522</td>\n",
       "      <td>-2.139547e-60</td>\n",
       "      <td>71</td>\n",
       "    </tr>\n",
       "  </tbody>\n",
       "</table>\n",
       "<p>1330816 rows × 13 columns</p>\n",
       "</div>"
      ],
      "text/plain": [
       "              u_q    coolant  stator_winding       u_d  stator_tooth  \\\n",
       "0       -0.450682  18.805172       19.086670 -0.350055     18.293219   \n",
       "1       -0.325737  18.818571       19.092390 -0.305803     18.294807   \n",
       "2       -0.440864  18.828770       19.089380 -0.372503     18.294094   \n",
       "3       -0.327026  18.835567       19.083031 -0.316199     18.292542   \n",
       "4       -0.471150  18.857033       19.082525 -0.332272     18.291428   \n",
       "...           ...        ...             ...       ...           ...   \n",
       "1330811 -2.152128  30.721298       45.274497  0.791801     41.934347   \n",
       "1330812 -2.258684  30.721306       45.239017  0.778900     41.868923   \n",
       "1330813 -2.130312  30.721312       45.211576  0.804914     41.804819   \n",
       "1330814 -2.268498  30.721316       45.193508  0.763091     41.762220   \n",
       "1330815 -2.100158  30.721319       45.132307  0.807309     41.734763   \n",
       "\n",
       "         motor_speed       i_d       i_q         pm  stator_yoke    ambient  \\\n",
       "0           0.002866  0.004419  0.000328  24.554214    18.316547  19.850691   \n",
       "1           0.000257  0.000606 -0.000785  24.538078    18.314955  19.850672   \n",
       "2           0.002355  0.001290  0.000386  24.544693    18.326307  19.850657   \n",
       "3           0.006105  0.000026  0.002046  24.554018    18.330833  19.850647   \n",
       "4           0.003133 -0.064317  0.037184  24.565397    18.326662  19.850639   \n",
       "...              ...       ...       ...        ...          ...        ...   \n",
       "1330811     0.000380 -2.000169  1.097528  62.147780    38.653720  23.989078   \n",
       "1330812     0.002985 -2.000499  1.097569  62.142646    38.656328  23.970700   \n",
       "1330813     0.002301 -1.999268  1.098765  62.138387    38.650923  23.977234   \n",
       "1330814     0.005662 -2.000999  1.095696  62.133422    38.655686  24.001421   \n",
       "1330815     0.004395 -2.000792  1.096487  62.131429    38.660370  24.027522   \n",
       "\n",
       "               torque  profile_id  \n",
       "0        1.871008e-01          17  \n",
       "1        2.454175e-01          17  \n",
       "2        1.766153e-01          17  \n",
       "3        2.383027e-01          17  \n",
       "4        2.081967e-01          17  \n",
       "...               ...         ...  \n",
       "1330811 -8.116730e-60          71  \n",
       "1330812 -5.815891e-60          71  \n",
       "1330813 -4.167268e-60          71  \n",
       "1330814 -2.985978e-60          71  \n",
       "1330815 -2.139547e-60          71  \n",
       "\n",
       "[1330816 rows x 13 columns]"
      ]
     },
     "execution_count": 42,
     "metadata": {},
     "output_type": "execute_result"
    }
   ],
   "source": [
    "data"
   ]
  },
  {
   "cell_type": "code",
   "execution_count": 43,
   "id": "9cd5a8b3-8ac4-4506-a627-62560c6443e0",
   "metadata": {
    "collapsed": true,
    "jupyter": {
     "outputs_hidden": true
    }
   },
   "outputs": [
    {
     "name": "stdout",
     "output_type": "stream",
     "text": [
      "La data tiene 1330816 filas y 13 columnas\n"
     ]
    },
    {
     "data": {
      "text/plain": [
       "array([17,  5, 12, 32, 21,  2,  4,  7, 19,  3,  9, 23, 27, 26, 11,  6, 10,\n",
       "       13, 31, 18, 30, 29,  8, 24, 20, 15, 14, 16, 36, 74, 75, 41, 68, 50,\n",
       "       53, 49, 81, 80, 59, 54, 57, 70, 51, 55, 45, 69, 61, 76, 56, 64, 72,\n",
       "       73, 62, 65, 63, 43, 47, 66, 42, 48, 67, 44, 79, 52, 60, 46, 58, 78,\n",
       "       71])"
      ]
     },
     "execution_count": 43,
     "metadata": {},
     "output_type": "execute_result"
    }
   ],
   "source": [
    "filas, columnas = data.shape\n",
    "print(f'La data tiene {filas} filas y {columnas} columnas')\n",
    "\n",
    "data['profile_id'].unique()"
   ]
  },
  {
   "cell_type": "code",
   "execution_count": 44,
   "id": "d5eaa340-acdc-49a1-a61d-a9bbd34bfae6",
   "metadata": {
    "collapsed": true,
    "jupyter": {
     "outputs_hidden": true
    }
   },
   "outputs": [
    {
     "data": {
      "text/html": [
       "<div>\n",
       "<style scoped>\n",
       "    .dataframe tbody tr th:only-of-type {\n",
       "        vertical-align: middle;\n",
       "    }\n",
       "\n",
       "    .dataframe tbody tr th {\n",
       "        vertical-align: top;\n",
       "    }\n",
       "\n",
       "    .dataframe thead th {\n",
       "        text-align: right;\n",
       "    }\n",
       "</style>\n",
       "<table border=\"1\" class=\"dataframe\">\n",
       "  <thead>\n",
       "    <tr style=\"text-align: right;\">\n",
       "      <th></th>\n",
       "      <th>u_q</th>\n",
       "      <th>coolant</th>\n",
       "      <th>stator_winding</th>\n",
       "      <th>u_d</th>\n",
       "      <th>stator_tooth</th>\n",
       "      <th>motor_speed</th>\n",
       "      <th>i_d</th>\n",
       "      <th>i_q</th>\n",
       "      <th>pm</th>\n",
       "      <th>stator_yoke</th>\n",
       "      <th>ambient</th>\n",
       "      <th>torque</th>\n",
       "      <th>profile_id</th>\n",
       "    </tr>\n",
       "  </thead>\n",
       "  <tbody>\n",
       "    <tr>\n",
       "      <th>0</th>\n",
       "      <td>-0.450682</td>\n",
       "      <td>18.805172</td>\n",
       "      <td>19.086670</td>\n",
       "      <td>-0.350055</td>\n",
       "      <td>18.293219</td>\n",
       "      <td>0.002866</td>\n",
       "      <td>0.004419</td>\n",
       "      <td>0.000328</td>\n",
       "      <td>24.554214</td>\n",
       "      <td>18.316547</td>\n",
       "      <td>19.850691</td>\n",
       "      <td>0.187101</td>\n",
       "      <td>17</td>\n",
       "    </tr>\n",
       "    <tr>\n",
       "      <th>1</th>\n",
       "      <td>-0.325737</td>\n",
       "      <td>18.818571</td>\n",
       "      <td>19.092390</td>\n",
       "      <td>-0.305803</td>\n",
       "      <td>18.294807</td>\n",
       "      <td>0.000257</td>\n",
       "      <td>0.000606</td>\n",
       "      <td>-0.000785</td>\n",
       "      <td>24.538078</td>\n",
       "      <td>18.314955</td>\n",
       "      <td>19.850672</td>\n",
       "      <td>0.245417</td>\n",
       "      <td>17</td>\n",
       "    </tr>\n",
       "    <tr>\n",
       "      <th>2</th>\n",
       "      <td>-0.440864</td>\n",
       "      <td>18.828770</td>\n",
       "      <td>19.089380</td>\n",
       "      <td>-0.372503</td>\n",
       "      <td>18.294094</td>\n",
       "      <td>0.002355</td>\n",
       "      <td>0.001290</td>\n",
       "      <td>0.000386</td>\n",
       "      <td>24.544693</td>\n",
       "      <td>18.326307</td>\n",
       "      <td>19.850657</td>\n",
       "      <td>0.176615</td>\n",
       "      <td>17</td>\n",
       "    </tr>\n",
       "    <tr>\n",
       "      <th>3</th>\n",
       "      <td>-0.327026</td>\n",
       "      <td>18.835567</td>\n",
       "      <td>19.083031</td>\n",
       "      <td>-0.316199</td>\n",
       "      <td>18.292542</td>\n",
       "      <td>0.006105</td>\n",
       "      <td>0.000026</td>\n",
       "      <td>0.002046</td>\n",
       "      <td>24.554018</td>\n",
       "      <td>18.330833</td>\n",
       "      <td>19.850647</td>\n",
       "      <td>0.238303</td>\n",
       "      <td>17</td>\n",
       "    </tr>\n",
       "    <tr>\n",
       "      <th>4</th>\n",
       "      <td>-0.471150</td>\n",
       "      <td>18.857033</td>\n",
       "      <td>19.082525</td>\n",
       "      <td>-0.332272</td>\n",
       "      <td>18.291428</td>\n",
       "      <td>0.003133</td>\n",
       "      <td>-0.064317</td>\n",
       "      <td>0.037184</td>\n",
       "      <td>24.565397</td>\n",
       "      <td>18.326662</td>\n",
       "      <td>19.850639</td>\n",
       "      <td>0.208197</td>\n",
       "      <td>17</td>\n",
       "    </tr>\n",
       "    <tr>\n",
       "      <th>...</th>\n",
       "      <td>...</td>\n",
       "      <td>...</td>\n",
       "      <td>...</td>\n",
       "      <td>...</td>\n",
       "      <td>...</td>\n",
       "      <td>...</td>\n",
       "      <td>...</td>\n",
       "      <td>...</td>\n",
       "      <td>...</td>\n",
       "      <td>...</td>\n",
       "      <td>...</td>\n",
       "      <td>...</td>\n",
       "      <td>...</td>\n",
       "    </tr>\n",
       "    <tr>\n",
       "      <th>15959</th>\n",
       "      <td>131.232086</td>\n",
       "      <td>18.098608</td>\n",
       "      <td>49.645897</td>\n",
       "      <td>-6.513609</td>\n",
       "      <td>43.098316</td>\n",
       "      <td>4999.946777</td>\n",
       "      <td>-97.676331</td>\n",
       "      <td>0.980545</td>\n",
       "      <td>51.822525</td>\n",
       "      <td>33.403080</td>\n",
       "      <td>24.637297</td>\n",
       "      <td>-0.421235</td>\n",
       "      <td>17</td>\n",
       "    </tr>\n",
       "    <tr>\n",
       "      <th>15960</th>\n",
       "      <td>131.169312</td>\n",
       "      <td>18.090189</td>\n",
       "      <td>49.578072</td>\n",
       "      <td>-6.500326</td>\n",
       "      <td>43.102539</td>\n",
       "      <td>4999.945312</td>\n",
       "      <td>-97.792351</td>\n",
       "      <td>0.953651</td>\n",
       "      <td>51.827511</td>\n",
       "      <td>33.396442</td>\n",
       "      <td>24.680479</td>\n",
       "      <td>-0.393254</td>\n",
       "      <td>17</td>\n",
       "    </tr>\n",
       "    <tr>\n",
       "      <th>15961</th>\n",
       "      <td>131.102997</td>\n",
       "      <td>18.089109</td>\n",
       "      <td>49.575481</td>\n",
       "      <td>-6.498843</td>\n",
       "      <td>43.100647</td>\n",
       "      <td>4999.947266</td>\n",
       "      <td>-97.791840</td>\n",
       "      <td>0.931305</td>\n",
       "      <td>51.831402</td>\n",
       "      <td>33.393707</td>\n",
       "      <td>24.715746</td>\n",
       "      <td>-0.389909</td>\n",
       "      <td>17</td>\n",
       "    </tr>\n",
       "    <tr>\n",
       "      <th>15962</th>\n",
       "      <td>131.055298</td>\n",
       "      <td>18.089380</td>\n",
       "      <td>49.606102</td>\n",
       "      <td>-6.476041</td>\n",
       "      <td>43.087551</td>\n",
       "      <td>4999.944336</td>\n",
       "      <td>-97.793709</td>\n",
       "      <td>0.903135</td>\n",
       "      <td>51.829365</td>\n",
       "      <td>33.398624</td>\n",
       "      <td>24.741184</td>\n",
       "      <td>-0.399254</td>\n",
       "      <td>17</td>\n",
       "    </tr>\n",
       "    <tr>\n",
       "      <th>15963</th>\n",
       "      <td>130.851028</td>\n",
       "      <td>18.105665</td>\n",
       "      <td>49.625244</td>\n",
       "      <td>-6.333745</td>\n",
       "      <td>43.087681</td>\n",
       "      <td>4999.939941</td>\n",
       "      <td>-97.902550</td>\n",
       "      <td>0.806877</td>\n",
       "      <td>51.861740</td>\n",
       "      <td>33.386982</td>\n",
       "      <td>24.743481</td>\n",
       "      <td>-0.453787</td>\n",
       "      <td>17</td>\n",
       "    </tr>\n",
       "  </tbody>\n",
       "</table>\n",
       "<p>15964 rows × 13 columns</p>\n",
       "</div>"
      ],
      "text/plain": [
       "              u_q    coolant  stator_winding       u_d  stator_tooth  \\\n",
       "0       -0.450682  18.805172       19.086670 -0.350055     18.293219   \n",
       "1       -0.325737  18.818571       19.092390 -0.305803     18.294807   \n",
       "2       -0.440864  18.828770       19.089380 -0.372503     18.294094   \n",
       "3       -0.327026  18.835567       19.083031 -0.316199     18.292542   \n",
       "4       -0.471150  18.857033       19.082525 -0.332272     18.291428   \n",
       "...           ...        ...             ...       ...           ...   \n",
       "15959  131.232086  18.098608       49.645897 -6.513609     43.098316   \n",
       "15960  131.169312  18.090189       49.578072 -6.500326     43.102539   \n",
       "15961  131.102997  18.089109       49.575481 -6.498843     43.100647   \n",
       "15962  131.055298  18.089380       49.606102 -6.476041     43.087551   \n",
       "15963  130.851028  18.105665       49.625244 -6.333745     43.087681   \n",
       "\n",
       "       motor_speed        i_d       i_q         pm  stator_yoke    ambient  \\\n",
       "0         0.002866   0.004419  0.000328  24.554214    18.316547  19.850691   \n",
       "1         0.000257   0.000606 -0.000785  24.538078    18.314955  19.850672   \n",
       "2         0.002355   0.001290  0.000386  24.544693    18.326307  19.850657   \n",
       "3         0.006105   0.000026  0.002046  24.554018    18.330833  19.850647   \n",
       "4         0.003133  -0.064317  0.037184  24.565397    18.326662  19.850639   \n",
       "...            ...        ...       ...        ...          ...        ...   \n",
       "15959  4999.946777 -97.676331  0.980545  51.822525    33.403080  24.637297   \n",
       "15960  4999.945312 -97.792351  0.953651  51.827511    33.396442  24.680479   \n",
       "15961  4999.947266 -97.791840  0.931305  51.831402    33.393707  24.715746   \n",
       "15962  4999.944336 -97.793709  0.903135  51.829365    33.398624  24.741184   \n",
       "15963  4999.939941 -97.902550  0.806877  51.861740    33.386982  24.743481   \n",
       "\n",
       "         torque  profile_id  \n",
       "0      0.187101          17  \n",
       "1      0.245417          17  \n",
       "2      0.176615          17  \n",
       "3      0.238303          17  \n",
       "4      0.208197          17  \n",
       "...         ...         ...  \n",
       "15959 -0.421235          17  \n",
       "15960 -0.393254          17  \n",
       "15961 -0.389909          17  \n",
       "15962 -0.399254          17  \n",
       "15963 -0.453787          17  \n",
       "\n",
       "[15964 rows x 13 columns]"
      ]
     },
     "execution_count": 44,
     "metadata": {},
     "output_type": "execute_result"
    }
   ],
   "source": [
    "data_17 = data[data['profile_id']==17]\n",
    "data_17"
   ]
  },
  {
   "cell_type": "code",
   "execution_count": 45,
   "id": "f34a5c78-433c-4652-9297-a6102e71c9f1",
   "metadata": {
    "collapsed": true,
    "jupyter": {
     "outputs_hidden": true
    }
   },
   "outputs": [
    {
     "data": {
      "text/plain": [
       "[]"
      ]
     },
     "execution_count": 45,
     "metadata": {},
     "output_type": "execute_result"
    },
    {
     "data": {
      "image/png": "[encoded data removed]",
      "text/plain": [
       "<Figure size 640x480 with 1 Axes>"
      ]
     },
     "metadata": {},
     "output_type": "display_data"
    }
   ],
   "source": [
    "sns.lineplot(data=data_17, x='motor_speed', y='torque')\n",
    "plt.xlabel('motor_speed (RPM)')\n",
    "plt.ylabel('Torque')\n",
    "plt.title('motor_speed (RPM) - Torque')\n",
    "plt.plot()"
   ]
  },
  {
   "cell_type": "markdown",
   "id": "da502e74-6547-4c0d-8eaf-1262e657a402",
   "metadata": {
    "jp-MarkdownHeadingCollapsed": true
   },
   "source": [
    "## 1.1. Resumen Estadístico con describe( )"
   ]
  },
  {
   "cell_type": "code",
   "execution_count": 51,
   "id": "f6792732-913b-4867-9c6e-5896fa879d59",
   "metadata": {
    "collapsed": true,
    "jupyter": {
     "outputs_hidden": true
    }
   },
   "outputs": [
    {
     "name": "stdout",
     "output_type": "stream",
     "text": [
      "Resumen Estadístico:\n",
      "                u_q       coolant  stator_winding           u_d  stator_tooth  \\\n",
      "count  1.330816e+06  1.330816e+06    1.330816e+06  1.330816e+06  1.330816e+06   \n",
      "mean   5.427900e+01  3.622999e+01    6.634275e+01 -2.513381e+01  5.687858e+01   \n",
      "std    4.417323e+01  2.178615e+01    2.867206e+01  6.309197e+01  2.295223e+01   \n",
      "min   -2.529093e+01  1.062375e+01    1.858582e+01 -1.315304e+02  1.813398e+01   \n",
      "25%    1.206992e+01  1.869814e+01    4.278796e+01 -7.869090e+01  3.841601e+01   \n",
      "50%    4.893818e+01  2.690014e+01    6.511013e+01 -7.429755e+00  5.603635e+01   \n",
      "75%    9.003439e+01  4.985749e+01    8.814114e+01  1.470271e+00  7.558668e+01   \n",
      "max    1.330370e+02  1.015985e+02    1.413629e+02  1.314698e+02  1.119464e+02   \n",
      "\n",
      "        motor_speed           i_d           i_q            pm   stator_yoke  \\\n",
      "count  1.330816e+06  1.330816e+06  1.330816e+06  1.330816e+06  1.330816e+06   \n",
      "mean   2.202081e+03 -6.871681e+01  3.741278e+01  5.850678e+01  4.818796e+01   \n",
      "std    1.859663e+03  6.493323e+01  9.218188e+01  1.900150e+01  1.999100e+01   \n",
      "min   -2.755491e+02 -2.780036e+02 -2.934268e+02  2.085696e+01  1.807669e+01   \n",
      "25%    3.171107e+02 -1.154061e+02  1.095863e+00  4.315158e+01  3.199033e+01   \n",
      "50%    1.999977e+03 -5.109376e+01  1.577401e+01  6.026629e+01  4.562551e+01   \n",
      "75%    3.760639e+03 -2.979688e+00  1.006121e+02  7.200837e+01  6.146083e+01   \n",
      "max    6.000015e+03  5.189670e-02  3.017079e+02  1.136066e+02  1.011480e+02   \n",
      "\n",
      "            ambient        torque    profile_id  \n",
      "count  1.330816e+06  1.330816e+06  1.330816e+06  \n",
      "mean   2.456526e+01  3.110603e+01  4.079306e+01  \n",
      "std    1.929522e+00  7.713575e+01  2.504549e+01  \n",
      "min    8.783478e+00 -2.464667e+02  2.000000e+00  \n",
      "25%    2.318480e+01 -1.374265e-01  1.700000e+01  \n",
      "50%    2.479733e+01  1.086035e+01  4.300000e+01  \n",
      "75%    2.621702e+01  9.159718e+01  6.500000e+01  \n",
      "max    3.071420e+01  2.610057e+02  8.100000e+01  \n"
     ]
    }
   ],
   "source": [
    "describilo = data.describe()\n",
    "print(\"Resumen Estadístico:\")\n",
    "print(describilo)"
   ]
  },
  {
   "cell_type": "markdown",
   "id": "f8fd2a0e-a888-4963-a0cb-8445264056ce",
   "metadata": {
    "jp-MarkdownHeadingCollapsed": true
   },
   "source": [
    "## 1.2. Estadísticas de 'coolant' y 'pm' "
   ]
  },
  {
   "cell_type": "code",
   "execution_count": 78,
   "id": "13cf4a65-9ac7-4375-bbd6-d9ecf017581e",
   "metadata": {
    "collapsed": true,
    "jupyter": {
     "outputs_hidden": true
    }
   },
   "outputs": [
    {
     "name": "stdout",
     "output_type": "stream",
     "text": [
      "Estadísticas de coolant y pm:\n",
      "\n",
      "coolant:\n",
      "  Media: 36.23\n",
      "  Desviación Estándar: 21.79\n",
      "  Máximo: 101.60\n",
      "  Mínimo: 10.62\n",
      "\n",
      "pm:\n",
      "  Media: 58.51\n",
      "  Desviación Estándar: 19.00\n",
      "  Máximo: 113.61\n",
      "  Mínimo: 20.86\n"
     ]
    }
   ],
   "source": [
    "columnas_analizar = [\"coolant\", \"pm\"]\n",
    "estadisticas = {}\n",
    "\n",
    "for columna in columnas_analizar:\n",
    "    estadisticas[columna] = {\n",
    "        \"Media\": data[columna].mean(),\n",
    "        \"Desviación Estándar\": data[columna].std(),\n",
    "        \"Máximo\": data[columna].max(),\n",
    "        \"Mínimo\": data[columna].min()\n",
    "    }\n",
    "\n",
    "print(\"Estadísticas de coolant y pm:\")\n",
    "for columna, valores in estadisticas.items():\n",
    "    print(f\"\\n{columna}:\")\n",
    "    for clave, valor in valores.items():\n",
    "        print(f\"  {clave}: {valor:.2f}\")"
   ]
  },
  {
   "cell_type": "markdown",
   "id": "d08b579c-174f-4b03-90bc-84ac765118cd",
   "metadata": {
    "jp-MarkdownHeadingCollapsed": true
   },
   "source": [
    "## 1.3. Media de coolant y pm por perfil sin groupby"
   ]
  },
  {
   "cell_type": "code",
   "execution_count": 80,
   "id": "695be8e4-d3a9-43d7-a2d1-6629504505ba",
   "metadata": {
    "collapsed": true,
    "jupyter": {
     "outputs_hidden": true
    }
   },
   "outputs": [
    {
     "name": "stdout",
     "output_type": "stream",
     "text": [
      "\n",
      "Media de coolant y pm por perfil (sin groupby):\n",
      "      coolant         pm\n",
      "17  18.925401  58.998289\n",
      "5   18.801043  33.213100\n",
      "12  18.525615  40.609789\n",
      "32  19.108723  60.001358\n",
      "21  18.928059  60.570799\n",
      "..        ...        ...\n",
      "60  50.655245  64.733436\n",
      "46  91.010305  88.984929\n",
      "58  55.292839  72.274074\n",
      "78  51.329973  55.021131\n",
      "71  49.577038  57.667810\n",
      "\n",
      "[69 rows x 2 columns]\n"
     ]
    }
   ],
   "source": [
    "perfiles_unicos = data[\"profile_id\"].unique()\n",
    "medias_manual = {}\n",
    "\n",
    "for perfil in perfiles_unicos:\n",
    "    subconjunto = data[data[\"profile_id\"] == perfil]  \n",
    "    medias_manual[perfil] = {\n",
    "        \"coolant\": subconjunto[\"coolant\"].mean(),\n",
    "        \"pm\": subconjunto[\"pm\"].mean()\n",
    "    }\n",
    "\n",
    "medias_manual_df = pd.DataFrame.from_dict(medias_manual, orient=\"index\")\n",
    "\n",
    "print(\"\\nMedia de coolant y pm por perfil (sin groupby):\")\n",
    "print(medias_manual_df)"
   ]
  },
  {
   "cell_type": "markdown",
   "id": "16ff8669-85a0-40ed-827b-af48089e423d",
   "metadata": {
    "jp-MarkdownHeadingCollapsed": true
   },
   "source": [
    "## 1.4. Media de coolant y pm por perfil con groupby"
   ]
  },
  {
   "cell_type": "code",
   "execution_count": 81,
   "id": "486fe7d0-0c0b-4feb-9f60-ead8970e1652",
   "metadata": {
    "collapsed": true,
    "jupyter": {
     "outputs_hidden": true
    }
   },
   "outputs": [
    {
     "name": "stdout",
     "output_type": "stream",
     "text": [
      "\n",
      "Media de coolant y pm por perfil (con groupby):\n",
      "              coolant         pm\n",
      "profile_id                      \n",
      "2           18.542054  32.759597\n",
      "3           18.761891  26.285130\n",
      "4           18.626801  49.762076\n",
      "5           18.801043  33.213100\n",
      "6           29.022098  69.232339\n",
      "...               ...        ...\n",
      "76          54.300834  67.596298\n",
      "78          51.329973  55.021131\n",
      "79          54.419152  68.716465\n",
      "80          54.703200  66.694762\n",
      "81          58.324510  56.343436\n",
      "\n",
      "[69 rows x 2 columns]\n"
     ]
    }
   ],
   "source": [
    "media_por_perfil_groupby = data.groupby(\"profile_id\")[columnas_analizar].mean()\n",
    "print(\"\\nMedia de coolant y pm por perfil (con groupby):\")\n",
    "print(media_por_perfil_groupby)"
   ]
  },
  {
   "cell_type": "markdown",
   "id": "034f0a46-8fd2-4922-9a3c-a16946bbf51c",
   "metadata": {
    "jp-MarkdownHeadingCollapsed": true
   },
   "source": [
    "## 2. Gráfico de línea: Torque vs Coolant y PM"
   ]
  },
  {
   "cell_type": "code",
   "execution_count": 82,
   "id": "7f811766-45b8-450f-8b3c-cac3105c7ef8",
   "metadata": {
    "collapsed": true,
    "jupyter": {
     "outputs_hidden": true
    }
   },
   "outputs": [
    {
     "data": {
      "image/png": "[encoded data removed]",
      "text/plain": [
       "<Figure size 1000x500 with 1 Axes>"
      ]
     },
     "metadata": {},
     "output_type": "display_data"
    }
   ],
   "source": [
    "plt.figure(figsize=(10, 5))\n",
    "\n",
    "for columna in columnas_analizar:\n",
    "    plt.plot(data[\"torque\"], data[columna], label=columna)\n",
    "\n",
    "plt.xlabel(\"Torque\")\n",
    "plt.ylabel(\"Temperatura del Refrigerante\")\n",
    "plt.title(\"Gráfico de Línea - Torque vs Temperatura del Refrigerante\")\n",
    "plt.legend()\n",
    "plt.grid()\n",
    "plt.show()"
   ]
  }
 ],
 "metadata": {
  "kernelspec": {
   "display_name": "Python 3 (ipykernel)",
   "language": "python",
   "name": "python3"
  },
  "language_info": {
   "codemirror_mode": {
    "name": "ipython",
    "version": 3
   },
   "file_extension": ".py",
   "mimetype": "text/x-python",
   "name": "python",
   "nbconvert_exporter": "python",
   "pygments_lexer": "ipython3",
   "version": "3.12.9"
  }
 },
 "nbformat": 4,
 "nbformat_minor": 5
}
